{
  "nbformat": 4,
  "nbformat_minor": 0,
  "metadata": {
    "colab": {
      "name": "Prediction_using_Unsupervised_ML.ipynb",
      "provenance": [],
      "collapsed_sections": []
    },
    "kernelspec": {
      "name": "python3",
      "display_name": "Python 3"
    }
  },
  "cells": [
    {
      "cell_type": "markdown",
      "metadata": {
        "id": "S_Po2HeN9b-r"
      },
      "source": [
        "##**PRERNA CHITRANSH**"
      ]
    },
    {
      "cell_type": "markdown",
      "metadata": {
        "id": "bbZaDHZw9pGE"
      },
      "source": [
        "**Task** - **Prediction using Unsupervised ML**"
      ]
    },
    {
      "cell_type": "markdown",
      "metadata": {
        "id": "a9cGfSXc-C9b"
      },
      "source": [
        "\"#GRIPDEC20\""
      ]
    },
    {
      "cell_type": "markdown",
      "metadata": {
        "id": "pHDXfwFB8kMZ"
      },
      "source": [
        "##**IMPORTING THE LIBRARIES**"
      ]
    },
    {
      "cell_type": "code",
      "metadata": {
        "id": "kdmeJe8viYjH"
      },
      "source": [
        "import numpy as np\r\n",
        "import matplotlib.pyplot as plt\r\n",
        "import pandas as pd\r\n",
        "from sklearn import datasets"
      ],
      "execution_count": 1,
      "outputs": []
    },
    {
      "cell_type": "markdown",
      "metadata": {
        "id": "cXV0axuC8s4n"
      },
      "source": [
        "##**LOAD THE IRIS DATASET**"
      ]
    },
    {
      "cell_type": "code",
      "metadata": {
        "id": "ncQ9PrrHifgA"
      },
      "source": [
        "iris = datasets.load_iris()\r\n",
        "iris_df = pd.DataFrame(iris.data, columns = iris.feature_names)\r\n",
        "iris_df.head()\r\n",
        "x = iris_df.iloc[:, [0, 1, 2, 3]].values\r\n"
      ],
      "execution_count": 7,
      "outputs": []
    },
    {
      "cell_type": "markdown",
      "metadata": {
        "id": "58-Sj5w-81Ha"
      },
      "source": [
        "##**FINDING THE OPTIMUM NUMBER OF CLUSTERS FOR K-MEANS CLASSIFICATION** "
      ]
    },
    {
      "cell_type": "code",
      "metadata": {
        "colab": {
          "base_uri": "https://localhost:8080/",
          "height": 295
        },
        "id": "mPlhq5sbii2y",
        "outputId": "77b040ec-ce9b-4b69-99a9-b751d088494a"
      },
      "source": [
        "from sklearn.cluster import KMeans\r\n",
        "wcss = []\r\n",
        "for i in range(1, 11):\r\n",
        "    kmeans = KMeans(n_clusters = i, init = 'k-means++', random_state = 42)\r\n",
        "    kmeans.fit(X)\r\n",
        "    wcss.append(kmeans.inertia_)\r\n",
        "plt.plot(range(1, 11), wcss)\r\n",
        "plt.title('The Elbow Method')\r\n",
        "plt.xlabel('Number of clusters')\r\n",
        "plt.ylabel('WCSS')\r\n",
        "plt.show()"
      ],
      "execution_count": 8,
      "outputs": [
        {
          "output_type": "display_data",
          "data": {
            "image/png": "[encoded data removed]",
            "text/plain": [
              "<Figure size 432x288 with 1 Axes>"
            ]
          },
          "metadata": {
            "tags": [],
            "needs_background": "light"
          }
        }
      ]
    },
    {
      "cell_type": "markdown",
      "metadata": {
        "id": "FVfQ4uGw9GL1"
      },
      "source": [
        "##**CREATING THE KMEANS CLASSIFIER**"
      ]
    },
    {
      "cell_type": "code",
      "metadata": {
        "id": "WJ85E6m_jNMX"
      },
      "source": [
        "kmeans = KMeans(n_clusters = 5, init = 'k-means++', random_state = 42)\r\n",
        "y_kmeans = kmeans.fit_predict(X)"
      ],
      "execution_count": 9,
      "outputs": []
    },
    {
      "cell_type": "markdown",
      "metadata": {
        "id": "hUN_eEdU9NDd"
      },
      "source": [
        "##**PLOTTING RESULTS**"
      ]
    },
    {
      "cell_type": "code",
      "metadata": {
        "id": "Q9Mpx7Q5jXiW",
        "colab": {
          "base_uri": "https://localhost:8080/",
          "height": 285
        },
        "outputId": "9c41af96-8aad-4628-9197-bbf57a1eb1d5"
      },
      "source": [
        "plt.scatter(x[y_kmeans == 0, 0], x[y_kmeans == 0, 1], \r\n",
        "            s = 100, c = 'red', label = 'Iris-setosa')\r\n",
        "plt.scatter(x[y_kmeans == 1, 0], x[y_kmeans == 1, 1], \r\n",
        "            s = 100, c = 'blue', label = 'Iris-versicolour')\r\n",
        "plt.scatter(x[y_kmeans == 2, 0], x[y_kmeans == 2, 1],\r\n",
        "            s = 100, c = 'green', label = 'Iris-virginica')\r\n",
        "\r\n",
        "# Plotting the centroids of the clusters\r\n",
        "plt.scatter(kmeans.cluster_centers_[:, 0], kmeans.cluster_centers_[:,1], \r\n",
        "            s = 100, c = 'yellow', label = 'Centroids')\r\n",
        "\r\n",
        "plt.legend()"
      ],
      "execution_count": 10,
      "outputs": [
        {
          "output_type": "execute_result",
          "data": {
            "text/plain": [
              "<matplotlib.legend.Legend at 0x7f951ffc64e0>"
            ]
          },
          "metadata": {
            "tags": []
          },
          "execution_count": 10
        },
        {
          "output_type": "display_data",
          "data": {
            "image/png": "[encoded data removed]",
            "text/plain": [
              "<Figure size 432x288 with 1 Axes>"
            ]
          },
          "metadata": {
            "tags": [],
            "needs_background": "light"
          }
        }
      ]
    },
    {
      "cell_type": "markdown",
      "metadata": {
        "id": "bnLCyD49-cos"
      },
      "source": [
        "##**THANK YOU :)**"
      ]
    }
  ]
}